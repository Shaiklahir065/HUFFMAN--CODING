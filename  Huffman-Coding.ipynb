{
 "cells": [
  {
   "cell_type": "code",
   "execution_count": 1,
   "id": "ac6a159e-6cfa-47b5-a50e-88bab210e781",
   "metadata": {},
   "outputs": [],
   "source": [
    "# Get the input String\n",
    "string = 'ARTIFICIAL INTELLIGENCE'\n",
    "class NodeTree(object):\n",
    "    def __init__(self, left=None, right=None): \n",
    "        self.left = left\n",
    "        self.right=right\n",
    "    def children(self):\n",
    "        return (self.left,self.right)\n",
    "    def nodes (self):\n",
    "        return (self.left,self.right)\n",
    "    def __str__(self):\n",
    "        return '%s %s' %(self.left,self.right)"
   ]
  },
  {
   "cell_type": "code",
   "execution_count": 2,
   "id": "a1937c39-8a88-4c53-8bc8-40c389dcb289",
   "metadata": {},
   "outputs": [],
   "source": [
    "# Create tree nodes\n",
    "def huffman_code_tree (node, left=True, binString=''):\n",
    "    if type(node) is str:\n",
    "        return {node: binString}\n",
    "    (l, r) = node.children()\n",
    "    d = dict()\n",
    "    d.update(huffman_code_tree (l, True, binString + '0'))\n",
    "    d.update(huffman_code_tree (r, False, binString + '1'))\n",
    "    return d"
   ]
  },
  {
   "cell_type": "code",
   "execution_count": 3,
   "id": "f5e5dfe0-7533-431e-81de-3cb37c971869",
   "metadata": {},
   "outputs": [],
   "source": [
    "# Main function to implement huffman coding\n",
    "freq = {}\n",
    "for c in string:\n",
    "    if c in freq:\n",
    "        freq[c] += 1\n",
    "    else:\n",
    "        freq[c] = 1\n",
    "freq = sorted(freq.items(), key=lambda x: x[1], reverse=True)\n",
    "nodes=freq"
   ]
  },
  {
   "cell_type": "code",
   "execution_count": 4,
   "id": "42291533-f718-4003-9a68-fd143c9b5ce7",
   "metadata": {},
   "outputs": [],
   "source": [
    "# Calculate frequency of occurrence\n",
    "while len(nodes)>1:\n",
    "    (key1,c1)=nodes[-1]\n",
    "    (key2,c2)=nodes[-2]\n",
    "    nodes = nodes[:-2]\n",
    "    node = NodeTree (key1, key2)\n",
    "    nodes.append((node,c1 + c2))\n",
    "    nodes = sorted (nodes, key=lambda x: x[1], reverse=True)"
   ]
  },
  {
   "cell_type": "code",
   "execution_count": 5,
   "id": "41fbaa3e-af98-4287-b68a-b5f07d6fd062",
   "metadata": {},
   "outputs": [
    {
     "name": "stdout",
     "output_type": "stream",
     "text": [
      " Char | Huffman code \n",
      "----------------------\n",
      "'I' |          01\n",
      "'L' |         101\n",
      "'E' |         100\n",
      "'A' |        1101\n",
      "'T' |        1100\n",
      "'C' |        1111\n",
      "'N' |        1110\n",
      "'R' |        0001\n",
      "'F' |        0000\n",
      "' ' |        0011\n",
      "'G' |        0010\n"
     ]
    }
   ],
   "source": [
    "# Print the characters and its huffmancode\n",
    "huffmanCode=huffman_code_tree(nodes[0][0])\n",
    "print(' Char | Huffman code ') \n",
    "print('----------------------')\n",
    "for (char, frequency) in freq:\n",
    "    print('%-4r|%12s'%(char,huffmanCode[char]))"
   ]
  },
  {
   "cell_type": "code",
   "execution_count": null,
   "id": "da3b203d-8e0c-450d-b3a9-56a92fdd398c",
   "metadata": {},
   "outputs": [],
   "source": []
  }
 ],
 "metadata": {
  "kernelspec": {
   "display_name": "Python 3 (ipykernel)",
   "language": "python",
   "name": "python3"
  },
  "language_info": {
   "codemirror_mode": {
    "name": "ipython",
    "version": 3
   },
   "file_extension": ".py",
   "mimetype": "text/x-python",
   "name": "python",
   "nbconvert_exporter": "python",
   "pygments_lexer": "ipython3",
   "version": "3.11.11"
  }
 },
 "nbformat": 4,
 "nbformat_minor": 5
}
